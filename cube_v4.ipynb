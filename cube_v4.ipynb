{
 "cells": [
  {
   "cell_type": "code",
   "execution_count": 7,
   "metadata": {},
   "outputs": [],
   "source": [
    "class Color:\n",
    "    WHITE  = \"\\033[48;2;247;247;247m　\\033[0m\"\n",
    "    YELLOW = \"\\033[48;2;253;254;0m　\\033[0m\"\n",
    "    BLUE   = \"\\033[48;2;41;94;224m　\\033[0m\"\n",
    "    GREEN  = \"\\033[48;2;36;244;13m　\\033[0m\"\n",
    "    RED    = \"\\033[48;2;243;16;14m　\\033[0m\"\n",
    "    ORANGE = \"\\033[48;2;243;156;14m　\\033[0m\"\n",
    "\n",
    "def print_color_edge(color_codeA,color_codeB):\n",
    "    print(color_codeA, end=\"\")\n",
    "    print(color_codeB, end=\"\")\n",
    "\n",
    "def print_color_corner(color_codeA,color_codeB,color_codeC):\n",
    "    print(color_codeA, end=\"\")\n",
    "    print(color_codeB, end=\"\")\n",
    "    print(color_codeC, end=\"\")\n",
    "    \n",
    "color_index_edge = {\n",
    "    1 : [\"あ\", Color.WHITE, Color.BLUE],\n",
    "    2 : [\"い\", Color.YELLOW, Color.BLUE],\n",
    "    3 : [\"う\", Color.YELLOW, Color.GREEN],\n",
    "    4 : [\"え\", Color.WHITE, Color.GREEN],\n",
    "    5 : [\"か\", Color.WHITE, Color.ORANGE],\n",
    "    6 : [\"き\", Color.BLUE, Color.ORANGE],\n",
    "    7 : [\"く\", Color.YELLOW, Color.ORANGE],\n",
    "    8 : [\"け\", Color.GREEN, Color.ORANGE],\n",
    "    9 : [\"さ\", Color.WHITE, Color.RED],\n",
    "    10 : [\"し\", Color.BLUE, Color.RED],\n",
    "    11 : [\"す\", Color.YELLOW, Color.RED],\n",
    "    12 : [\"せ\", Color.GREEN, Color.RED],\n",
    "    13 : [\"た\", Color.BLUE, Color.WHITE],\n",
    "    14 : [\"ち\", Color.BLUE, Color.YELLOW],\n",
    "    15 : [\"つ\", Color.GREEN, Color.YELLOW],\n",
    "    16 : [\"て\", Color.GREEN, Color.WHITE],\n",
    "    17 : [\"な\", Color.ORANGE, Color.WHITE],\n",
    "    18 : [\"に\", Color.ORANGE, Color.BLUE],\n",
    "    19 : [\"ぬ\", Color.ORANGE, Color.YELLOW],\n",
    "    20 : [\"ね\", Color.ORANGE, Color.GREEN],\n",
    "    21 : [\"ら\", Color.RED, Color.WHITE],\n",
    "    22 : [\"り\", Color.RED, Color.BLUE],\n",
    "    23 : [\"る\", Color.RED, Color.YELLOW],\n",
    "    24 : [\"れ\", Color.RED, Color.GREEN]\n",
    "}\n",
    "\n",
    "color_index_corner = {\n",
    "    1 : [\"あ\", Color.WHITE, Color.BLUE, Color.ORANGE],\n",
    "    2 : [\"い\", Color.YELLOW, Color.ORANGE, Color.BLUE],\n",
    "    3 : [\"う\", Color.YELLOW, Color.GREEN, Color.ORANGE],\n",
    "    4 : [\"え\", Color.WHITE, Color.ORANGE, Color.GREEN],\n",
    "    5 : [\"か\", Color.BLUE, Color.ORANGE, Color.WHITE],\n",
    "    6 : [\"き\", Color.BLUE, Color.YELLOW, Color.ORANGE],\n",
    "    7 : [\"く\", Color.GREEN, Color.ORANGE, Color.YELLOW],\n",
    "    8 : [\"け\", Color.GREEN, Color.WHITE, Color.ORANGE],\n",
    "    9 : [\"さ\", Color.BLUE, Color.WHITE, Color.RED],\n",
    "    10 : [\"し\", Color.BLUE, Color.RED, Color.YELLOW],\n",
    "    11 : [\"す\", Color.GREEN, Color.YELLOW, Color.RED],\n",
    "    12 : [\"せ\", Color.GREEN, Color.RED, Color.WHITE],\n",
    "    13 : [\"た\", Color.WHITE, Color.RED, Color.BLUE],\n",
    "    14 : [\"ち\", Color.YELLOW, Color.BLUE, Color.RED],\n",
    "    15 : [\"つ\", Color.YELLOW, Color.RED, Color.GREEN],\n",
    "    16 : [\"て\", Color.WHITE, Color.GREEN, Color.RED],\n",
    "    17 : [\"な\", Color.ORANGE, Color.WHITE, Color.BLUE],\n",
    "    18 : [\"に\", Color.ORANGE, Color.BLUE, Color.YELLOW],\n",
    "    19 : [\"ぬ\", Color.ORANGE, Color.YELLOW, Color.GREEN],\n",
    "    20 : [\"ね\", Color.ORANGE, Color.GREEN, Color.WHITE],\n",
    "    21 : [\"ら\", Color.RED, Color.BLUE, Color.WHITE],\n",
    "    22 : [\"り\", Color.RED, Color.YELLOW, Color.BLUE],\n",
    "    23 : [\"る\", Color.RED, Color.GREEN, Color.YELLOW],\n",
    "    24 : [\"れ\", Color.RED, Color.WHITE, Color.GREEN]\n",
    "}"
   ]
  },
  {
   "cell_type": "code",
   "execution_count": 4,
   "metadata": {},
   "outputs": [
    {
     "name": "stdout",
     "output_type": "stream",
     "text": [
      "あ\u001b[48;2;247;247;247m　\u001b[0m\u001b[48;2;41;94;224m　\u001b[0m\n",
      "い\u001b[48;2;253;254;0m　\u001b[0m\u001b[48;2;41;94;224m　\u001b[0m\n",
      "う\u001b[48;2;253;254;0m　\u001b[0m\u001b[48;2;36;244;13m　\u001b[0m\n",
      "え\u001b[48;2;247;247;247m　\u001b[0m\u001b[48;2;36;244;13m　\u001b[0m\n",
      "か\u001b[48;2;247;247;247m　\u001b[0m\u001b[48;2;243;156;14m　\u001b[0m\n",
      "き\u001b[48;2;41;94;224m　\u001b[0m\u001b[48;2;243;156;14m　\u001b[0m\n",
      "く\u001b[48;2;253;254;0m　\u001b[0m\u001b[48;2;243;156;14m　\u001b[0m\n",
      "け\u001b[48;2;36;244;13m　\u001b[0m\u001b[48;2;243;156;14m　\u001b[0m\n",
      "さ\u001b[48;2;247;247;247m　\u001b[0m\u001b[48;2;243;16;14m　\u001b[0m\n",
      "し\u001b[48;2;41;94;224m　\u001b[0m\u001b[48;2;243;16;14m　\u001b[0m\n",
      "す\u001b[48;2;253;254;0m　\u001b[0m\u001b[48;2;243;16;14m　\u001b[0m\n",
      "せ\u001b[48;2;36;244;13m　\u001b[0m\u001b[48;2;243;16;14m　\u001b[0m\n",
      "た\u001b[48;2;41;94;224m　\u001b[0m\u001b[48;2;247;247;247m　\u001b[0m\n",
      "ち\u001b[48;2;41;94;224m　\u001b[0m\u001b[48;2;253;254;0m　\u001b[0m\n",
      "つ\u001b[48;2;36;244;13m　\u001b[0m\u001b[48;2;253;254;0m　\u001b[0m\n",
      "て\u001b[48;2;36;244;13m　\u001b[0m\u001b[48;2;247;247;247m　\u001b[0m\n",
      "な\u001b[48;2;243;156;14m　\u001b[0m\u001b[48;2;247;247;247m　\u001b[0m\n",
      "に\u001b[48;2;243;156;14m　\u001b[0m\u001b[48;2;41;94;224m　\u001b[0m\n",
      "ぬ\u001b[48;2;243;156;14m　\u001b[0m\u001b[48;2;253;254;0m　\u001b[0m\n",
      "ね\u001b[48;2;243;156;14m　\u001b[0m\u001b[48;2;36;244;13m　\u001b[0m\n",
      "ら\u001b[48;2;243;16;14m　\u001b[0m\u001b[48;2;247;247;247m　\u001b[0m\n",
      "り\u001b[48;2;243;16;14m　\u001b[0m\u001b[48;2;41;94;224m　\u001b[0m\n",
      "る\u001b[48;2;243;16;14m　\u001b[0m\u001b[48;2;253;254;0m　\u001b[0m\n",
      "れ\u001b[48;2;243;16;14m　\u001b[0m\u001b[48;2;36;244;13m　\u001b[0m\n"
     ]
    }
   ],
   "source": [
    "#edge\n",
    "for i in range(1,25):\n",
    "    for name, colorA, colorB in [color_index_edge[i]]:\n",
    "        print(name,end=\"\")\n",
    "        print_color_edge(colorA,colorB)\n",
    "        print()"
   ]
  },
  {
   "cell_type": "code",
   "execution_count": 8,
   "metadata": {},
   "outputs": [
    {
     "name": "stdout",
     "output_type": "stream",
     "text": [
      "あ\u001b[48;2;247;247;247m　\u001b[0m\u001b[48;2;41;94;224m　\u001b[0m\u001b[48;2;243;156;14m　\u001b[0m\n",
      "い\u001b[48;2;253;254;0m　\u001b[0m\u001b[48;2;243;156;14m　\u001b[0m\u001b[48;2;41;94;224m　\u001b[0m\n",
      "う\u001b[48;2;253;254;0m　\u001b[0m\u001b[48;2;36;244;13m　\u001b[0m\u001b[48;2;243;156;14m　\u001b[0m\n",
      "え\u001b[48;2;247;247;247m　\u001b[0m\u001b[48;2;243;156;14m　\u001b[0m\u001b[48;2;36;244;13m　\u001b[0m\n",
      "か\u001b[48;2;41;94;224m　\u001b[0m\u001b[48;2;243;156;14m　\u001b[0m\u001b[48;2;247;247;247m　\u001b[0m\n",
      "き\u001b[48;2;41;94;224m　\u001b[0m\u001b[48;2;253;254;0m　\u001b[0m\u001b[48;2;243;156;14m　\u001b[0m\n",
      "く\u001b[48;2;36;244;13m　\u001b[0m\u001b[48;2;243;156;14m　\u001b[0m\u001b[48;2;253;254;0m　\u001b[0m\n",
      "け\u001b[48;2;36;244;13m　\u001b[0m\u001b[48;2;247;247;247m　\u001b[0m\u001b[48;2;243;156;14m　\u001b[0m\n",
      "さ\u001b[48;2;41;94;224m　\u001b[0m\u001b[48;2;247;247;247m　\u001b[0m\u001b[48;2;243;16;14m　\u001b[0m\n",
      "し\u001b[48;2;41;94;224m　\u001b[0m\u001b[48;2;243;16;14m　\u001b[0m\u001b[48;2;253;254;0m　\u001b[0m\n",
      "す\u001b[48;2;36;244;13m　\u001b[0m\u001b[48;2;253;254;0m　\u001b[0m\u001b[48;2;243;16;14m　\u001b[0m\n",
      "せ\u001b[48;2;36;244;13m　\u001b[0m\u001b[48;2;243;16;14m　\u001b[0m\u001b[48;2;247;247;247m　\u001b[0m\n",
      "た\u001b[48;2;247;247;247m　\u001b[0m\u001b[48;2;243;16;14m　\u001b[0m\u001b[48;2;41;94;224m　\u001b[0m\n",
      "ち\u001b[48;2;253;254;0m　\u001b[0m\u001b[48;2;41;94;224m　\u001b[0m\u001b[48;2;243;16;14m　\u001b[0m\n",
      "つ\u001b[48;2;253;254;0m　\u001b[0m\u001b[48;2;243;16;14m　\u001b[0m\u001b[48;2;36;244;13m　\u001b[0m\n",
      "て\u001b[48;2;247;247;247m　\u001b[0m\u001b[48;2;36;244;13m　\u001b[0m\u001b[48;2;243;16;14m　\u001b[0m\n",
      "な\u001b[48;2;243;156;14m　\u001b[0m\u001b[48;2;247;247;247m　\u001b[0m\u001b[48;2;41;94;224m　\u001b[0m\n",
      "に\u001b[48;2;243;156;14m　\u001b[0m\u001b[48;2;41;94;224m　\u001b[0m\u001b[48;2;253;254;0m　\u001b[0m\n",
      "ぬ\u001b[48;2;243;156;14m　\u001b[0m\u001b[48;2;253;254;0m　\u001b[0m\u001b[48;2;36;244;13m　\u001b[0m\n",
      "ね\u001b[48;2;243;156;14m　\u001b[0m\u001b[48;2;36;244;13m　\u001b[0m\u001b[48;2;247;247;247m　\u001b[0m\n",
      "ら\u001b[48;2;243;16;14m　\u001b[0m\u001b[48;2;41;94;224m　\u001b[0m\u001b[48;2;247;247;247m　\u001b[0m\n",
      "り\u001b[48;2;243;16;14m　\u001b[0m\u001b[48;2;253;254;0m　\u001b[0m\u001b[48;2;41;94;224m　\u001b[0m\n",
      "る\u001b[48;2;243;16;14m　\u001b[0m\u001b[48;2;36;244;13m　\u001b[0m\u001b[48;2;253;254;0m　\u001b[0m\n",
      "れ\u001b[48;2;243;16;14m　\u001b[0m\u001b[48;2;247;247;247m　\u001b[0m\u001b[48;2;36;244;13m　\u001b[0m\n"
     ]
    }
   ],
   "source": [
    "#corner\n",
    "for j in range(1,25):\n",
    "    for name, colorA, colorB, colorC in [color_index_corner[j]]:\n",
    "        print(name,end=\"\")\n",
    "        print_color_corner(colorA,colorB,colorC)\n",
    "        print()"
   ]
  },
  {
   "cell_type": "code",
   "execution_count": 11,
   "metadata": {},
   "outputs": [
    {
     "ename": "NameError",
     "evalue": "name 'color_index_edge' is not defined",
     "output_type": "error",
     "traceback": [
      "\u001b[1;31m---------------------------------------------------------------------------\u001b[0m",
      "\u001b[1;31mNameError\u001b[0m                                 Traceback (most recent call last)",
      "Input \u001b[1;32mIn [11]\u001b[0m, in \u001b[0;36m<cell line: 3>\u001b[1;34m()\u001b[0m\n\u001b[0;32m      3\u001b[0m \u001b[38;5;28;01mfor\u001b[39;00m i \u001b[38;5;129;01min\u001b[39;00m \u001b[38;5;28mrange\u001b[39m(\u001b[38;5;241m1\u001b[39m,\u001b[38;5;241m10\u001b[39m):\n\u001b[0;32m      4\u001b[0m     rand_num \u001b[38;5;241m=\u001b[39m random\u001b[38;5;241m.\u001b[39mrandint(\u001b[38;5;241m1\u001b[39m,\u001b[38;5;241m24\u001b[39m)\n\u001b[1;32m----> 5\u001b[0m     \u001b[38;5;28;01mfor\u001b[39;00m name, colorA, colorB \u001b[38;5;129;01min\u001b[39;00m [\u001b[43mcolor_index_edge\u001b[49m[rand_num]]:\n\u001b[0;32m      6\u001b[0m         \u001b[38;5;28mprint\u001b[39m(name,end\u001b[38;5;241m=\u001b[39m\u001b[38;5;124m\"\u001b[39m\u001b[38;5;124m\"\u001b[39m)\n\u001b[0;32m      7\u001b[0m         print_color_edge(colorA,colorB)\n",
      "\u001b[1;31mNameError\u001b[0m: name 'color_index_edge' is not defined"
     ]
    }
   ],
   "source": [
    "import random\n",
    "\n",
    "for i in range(1,10):\n",
    "    rand_num = random.randint(1,24)\n",
    "    for name, colorA, colorB in [color_index_edge[rand_num]]:\n",
    "        print(name,end=\"\")\n",
    "        print_color_edge(colorA,colorB)\n",
    "        print()"
   ]
  }
 ],
 "metadata": {
  "kernelspec": {
   "display_name": "Python 3",
   "language": "python",
   "name": "python3"
  },
  "language_info": {
   "codemirror_mode": {
    "name": "ipython",
    "version": 3
   },
   "file_extension": ".py",
   "mimetype": "text/x-python",
   "name": "python",
   "nbconvert_exporter": "python",
   "pygments_lexer": "ipython3",
   "version": "3.10.2"
  }
 },
 "nbformat": 4,
 "nbformat_minor": 2
}
