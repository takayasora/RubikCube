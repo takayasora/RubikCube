{
 "cells": [
  {
   "cell_type": "code",
   "execution_count": 5,
   "metadata": {},
   "outputs": [
    {
     "name": "stdout",
     "output_type": "stream",
     "text": [
      "\u001b[48;2;253;254;0m　\u001b[0m\u001b[48;2;243;16;14m　\u001b[0m\u001b[48;2;36;244;13m　\u001b[0mNG つ\n",
      "\u001b[48;2;243;156;14m　\u001b[0m\u001b[48;2;41;94;224m　\u001b[0m\u001b[48;2;253;254;0m　\u001b[0mNG に\n",
      "\u001b[48;2;41;94;224m　\u001b[0m\u001b[48;2;253;254;0m　\u001b[0m\u001b[48;2;243;156;14m　\u001b[0mNG き\n"
     ]
    },
    {
     "ename": "Error",
     "evalue": "iterable expected, not float",
     "output_type": "error",
     "traceback": [
      "\u001b[1;31m---------------------------------------------------------------------------\u001b[0m",
      "\u001b[1;31mError\u001b[0m                                     Traceback (most recent call last)",
      "Input \u001b[1;32mIn [5]\u001b[0m, in \u001b[0;36m<cell line: 3>\u001b[1;34m()\u001b[0m\n\u001b[0;32m      1\u001b[0m \u001b[38;5;28;01mimport\u001b[39;00m \u001b[38;5;21;01mcube\u001b[39;00m\n\u001b[1;32m----> 3\u001b[0m \u001b[43mcube\u001b[49m\u001b[38;5;241;43m.\u001b[39;49m\u001b[43mcorner_exam\u001b[49m\u001b[43m(\u001b[49m\u001b[38;5;241;43m3\u001b[39;49m\u001b[43m)\u001b[49m\n",
      "File \u001b[1;32mg:\\RubikCube\\cube.py:81\u001b[0m, in \u001b[0;36mcorner_exam\u001b[1;34m(qestion_num)\u001b[0m\n\u001b[0;32m     79\u001b[0m execution_time \u001b[38;5;241m=\u001b[39m end_time \u001b[38;5;241m-\u001b[39m start_time\n\u001b[0;32m     80\u001b[0m ave \u001b[38;5;241m=\u001b[39m execution_time \u001b[38;5;241m/\u001b[39mqestion_num\n\u001b[1;32m---> 81\u001b[0m \u001b[43maddcsv_corner\u001b[49m\u001b[43m(\u001b[49m\u001b[43mave\u001b[49m\u001b[43m)\u001b[49m\n",
      "File \u001b[1;32mg:\\RubikCube\\cube.py:66\u001b[0m, in \u001b[0;36mcorner_exam.<locals>.addcsv_corner\u001b[1;34m(text)\u001b[0m\n\u001b[0;32m     64\u001b[0m \u001b[38;5;28;01mwith\u001b[39;00m \u001b[38;5;28mopen\u001b[39m(csv_file_path, mode\u001b[38;5;241m=\u001b[39m\u001b[38;5;124m'\u001b[39m\u001b[38;5;124ma\u001b[39m\u001b[38;5;124m'\u001b[39m, newline\u001b[38;5;241m=\u001b[39m\u001b[38;5;124m'\u001b[39m\u001b[38;5;124m'\u001b[39m) \u001b[38;5;28;01mas\u001b[39;00m file:\n\u001b[0;32m     65\u001b[0m     csv_writer \u001b[38;5;241m=\u001b[39m csv\u001b[38;5;241m.\u001b[39mwriter(file)\n\u001b[1;32m---> 66\u001b[0m     \u001b[43mcsv_writer\u001b[49m\u001b[38;5;241;43m.\u001b[39;49m\u001b[43mwriterow\u001b[49m\u001b[43m(\u001b[49m\u001b[43mtext\u001b[49m\u001b[43m)\u001b[49m\n",
      "\u001b[1;31mError\u001b[0m: iterable expected, not float"
     ]
    }
   ],
   "source": [
    "import cube\n",
    "\n",
    "cube.corner_exam(3)"
   ]
  }
 ],
 "metadata": {
  "kernelspec": {
   "display_name": "Python 3",
   "language": "python",
   "name": "python3"
  },
  "language_info": {
   "codemirror_mode": {
    "name": "ipython",
    "version": 3
   },
   "file_extension": ".py",
   "mimetype": "text/x-python",
   "name": "python",
   "nbconvert_exporter": "python",
   "pygments_lexer": "ipython3",
   "version": "3.10.2"
  }
 },
 "nbformat": 4,
 "nbformat_minor": 2
}
