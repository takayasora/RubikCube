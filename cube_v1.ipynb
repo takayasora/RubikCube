{
 "cells": [
  {
   "cell_type": "code",
   "execution_count": 59,
   "metadata": {},
   "outputs": [],
   "source": [
    "class color:\n",
    "    WHITE       =   f\"\\033[48;2;247;247;247m　\\033[0m\"\n",
    "    YELLOW      =   f\"\\033[48;2;253;254;0m　\\033[0m\"\n",
    "    BLUE        =   f\"\\033[48;2;41;94;224m　\\033[0m\"\n",
    "    GREEN       =   f\"\\033[48;2;36;244;13m　\\033[0m\"\n",
    "    RED         =   f\"\\033[48;2;243;16;14m　\\033[0m\"\n",
    "    ORANGE      =   f\"\\033[48;2;243;156;14m　\\033[0m\"\n",
    "\n",
    "def color_index(num):\n",
    "    if num == 1:\n",
    "        print(color.WHITE)\n",
    "    elif num == 2:\n",
    "        print(color.YELLOW)\n",
    "    elif num == 3:\n",
    "        print(color.BLUE)\n",
    "    elif num == 4:\n",
    "        print(color.GREEN)\n",
    "    elif num == 5:\n",
    "        print(color.RED)\n",
    "    elif num == 6:\n",
    "        print(color.ORANGE)"
   ]
  },
  {
   "cell_type": "code",
   "execution_count": 65,
   "metadata": {},
   "outputs": [
    {
     "name": "stdout",
     "output_type": "stream",
     "text": [
      "\u001b[48;2;247;247;247m　\u001b[0m\n",
      "\u001b[48;2;41;94;224m　\u001b[0m\n",
      "\u001b[48;2;253;254;0m　\u001b[0m\n",
      "\u001b[48;2;243;156;14m　\u001b[0m\n",
      "\u001b[48;2;41;94;224m　\u001b[0m\n",
      "\u001b[48;2;36;244;13m　\u001b[0m\n",
      "\u001b[48;2;253;254;0m　\u001b[0m\n",
      "\u001b[48;2;247;247;247m　\u001b[0m\n",
      "\u001b[48;2;36;244;13m　\u001b[0m\n",
      "\u001b[48;2;41;94;224m　\u001b[0m\n"
     ]
    }
   ],
   "source": [
    "import random\n",
    "for i in range(10):\n",
    "    color_index(random.randint(1,6))"
   ]
  },
  {
   "cell_type": "code",
   "execution_count": null,
   "metadata": {},
   "outputs": [],
   "source": [
    "color_index = {\n",
    "    \"あ\":[color.WHITE,color.BLUE]\n",
    "    # \"い\":[,],\n",
    "    # \"う\":[,],\n",
    "    # \"え\":[,],\n",
    "    # \"か\":[,],\n",
    "    # \"き\":[,],\n",
    "    # \"く\":[,],\n",
    "    # \"け\":[,],\n",
    "    # \"さ\":[,],\n",
    "    # \"し\":[,],\n",
    "    # \"す\":[,],\n",
    "    # \"せ\":[,],\n",
    "    # \"な\":[,],\n",
    "    # \"に\":[,],\n",
    "    # \"ぬ\":[,],\n",
    "    # \"ね\":[,],\n",
    "    # \"ら\":[,],\n",
    "    # \"り\":[,],\n",
    "    # \"る\":[,],\n",
    "    # \"れ\":[,]\n",
    "}"
   ]
  },
  {
   "cell_type": "code",
   "execution_count": 69,
   "metadata": {},
   "outputs": [
    {
     "ename": "TypeError",
     "evalue": "'function' object is not subscriptable",
     "output_type": "error",
     "traceback": [
      "\u001b[1;31m---------------------------------------------------------------------------\u001b[0m",
      "\u001b[1;31mTypeError\u001b[0m                                 Traceback (most recent call last)",
      "Input \u001b[1;32mIn [69]\u001b[0m, in \u001b[0;36m<cell line: 5>\u001b[1;34m()\u001b[0m\n\u001b[0;32m      2\u001b[0m     \u001b[38;5;28mprint\u001b[39m(color_code)\n\u001b[0;32m      4\u001b[0m \u001b[38;5;66;03m# \"あ\"の色を出力する場合\u001b[39;00m\n\u001b[1;32m----> 5\u001b[0m \u001b[38;5;28;01mfor\u001b[39;00m color_code \u001b[38;5;129;01min\u001b[39;00m \u001b[43mcolor_index\u001b[49m\u001b[43m[\u001b[49m\u001b[38;5;124;43m\"\u001b[39;49m\u001b[38;5;124;43mあ\u001b[39;49m\u001b[38;5;124;43m\"\u001b[39;49m\u001b[43m]\u001b[49m:\n\u001b[0;32m      6\u001b[0m     print_color(color_code)\n",
      "\u001b[1;31mTypeError\u001b[0m: 'function' object is not subscriptable"
     ]
    }
   ],
   "source": [
    "def print_color(color_code):\n",
    "    print(color_code)\n",
    "    \n",
    "# \"あ\"の色を出力する場合\n",
    "for color_code in color_index[\"あ\"]:\n",
    "    print_color(color_code)"
   ]
  },
  {
   "cell_type": "code",
   "execution_count": 71,
   "metadata": {},
   "outputs": [
    {
     "name": "stdout",
     "output_type": "stream",
     "text": [
      "\u001b[48;2;247;247;247m　\u001b[0m\u001b[48;2;41;94;224m　\u001b[0m"
     ]
    }
   ],
   "source": [
    "class Color:\n",
    "    WHITE  = \"\\033[48;2;247;247;247m　\\033[0m\"\n",
    "    YELLOW = \"\\033[48;2;253;254;0m　\\033[0m\"\n",
    "    BLUE   = \"\\033[48;2;41;94;224m　\\033[0m\"\n",
    "    GREEN  = \"\\033[48;2;36;244;13m　\\033[0m\"\n",
    "    RED    = \"\\033[48;2;243;16;14m　\\033[0m\"\n",
    "    ORANGE = \"\\033[48;2;243;156;14m　\\033[0m\"\n",
    "\n",
    "def print_color(color_code):\n",
    "    print(color_code,end=\"\")\n",
    "\n",
    "color_index = {\n",
    "    \"あ\": [Color.WHITE, Color.BLUE],\n",
    "    # \"い\": [Color.XXX, Color.XXX],  # \"い\"の色情報を追加する場合\n",
    "    # 他の文字についても同様に色情報を追加してください\n",
    "}\n",
    "\n",
    "# \"あ\"の色を出力する場合\n",
    "for color_code in color_index[\"あ\"]:\n",
    "    print_color(color_code)\n"
   ]
  },
  {
   "cell_type": "code",
   "execution_count": 90,
   "metadata": {},
   "outputs": [
    {
     "name": "stdout",
     "output_type": "stream",
     "text": [
      "\u001b[48;2;247;247;247m　\u001b[0m\u001b[48;2;41;94;224m　\u001b[0msuccess あ\n"
     ]
    }
   ],
   "source": [
    "class Color:\n",
    "    WHITE  = \"\\033[48;2;247;247;247m　\\033[0m\"\n",
    "    YELLOW = \"\\033[48;2;253;254;0m　\\033[0m\"\n",
    "    BLUE   = \"\\033[48;2;41;94;224m　\\033[0m\"\n",
    "    GREEN  = \"\\033[48;2;36;244;13m　\\033[0m\"\n",
    "    RED    = \"\\033[48;2;243;16;14m　\\033[0m\"\n",
    "    ORANGE = \"\\033[48;2;243;156;14m　\\033[0m\"\n",
    "\n",
    "def print_color_edge(color_codeA,color_codeB):\n",
    "    print(color_codeA, end=\"\")\n",
    "    print(color_codeB, end=\"\")\n",
    "\n",
    "color_index_edge = {\n",
    "    1 : [\"あ\", Color.WHITE, Color.BLUE],\n",
    "    2 : [\"い\", Color.YELLOW, Color.BLUE],\n",
    "    3 : [\"う\", Color.YELLOW, Color.GREEN],\n",
    "    4 : [\"え\", Color.WHITE, Color.GREEN],\n",
    "    5 : [\"か\", Color.WHITE, Color.ORANGE],\n",
    "    6 : [\"き\", Color.BLUE, Color.ORANGE],\n",
    "    7 : [\"く\", Color.YELLOW, Color.ORANGE],\n",
    "    8 : [\"け\", Color.GREEN, Color.ORANGE],\n",
    "    9 : [\"さ\", Color.WHITE, Color.RED],\n",
    "    10 : [\"し\", Color.BLUE, Color.RED],\n",
    "    11 : [\"す\", Color.YELLOW, Color.RED],\n",
    "    12 : [\"せ\", Color.GREEN, Color.RED],\n",
    "    13 : [\"た\", Color.BLUE, Color.WHITE],\n",
    "    14 : [\"ち\", Color.BLUE, Color.YELLOW],\n",
    "    15 : [\"つ\", Color.GREEN, Color.YELLOW],\n",
    "    16 : [\"て\", Color.GREEN, Color.WHITE],\n",
    "    17 : [\"な\", Color.ORANGE, Color.WHITE],\n",
    "    18 : [\"に\", Color.ORANGE, Color.BLUE],\n",
    "    19 : [\"ぬ\", Color.ORANGE, Color.YELLOW],\n",
    "    20 : [\"ね\", Color.ORANGE, Color.GREEN],\n",
    "    21 : [\"ら\", Color.RED, Color.WHITE],\n",
    "    22 : [\"り\", Color.RED, Color.BLUE],\n",
    "    23 : [\"る\", Color.RED, Color.YELLOW],\n",
    "    24 : [\"れ\", Color.RED, Color.GREEN]\n",
    "}\n",
    "\n",
    "color_index_corner = {\n",
    "    1 : [\"あ\", Color.WHITE, Color.BLUE, Color.ORANGE],\n",
    "    2 : [\"い\", Color.YELLOW, Color.ORANGE, Color.BLUE],\n",
    "    3 : [\"う\", Color.YELLOW, Color.GREEN, Color.ORANGE],\n",
    "    4 : [\"え\", Color.WHITE, Color.ORANGE, Color.GREEN],\n",
    "    5 : [\"か\", Color.BLUE, Color.ORANGE, Color.WHITE],\n",
    "    6 : [\"き\", Color.BLUE, Color.YELLOW, Color.ORANGE],\n",
    "    7 : [\"く\", Color.GREEN, Color.ORANGE, Color.YELLOW],\n",
    "    8 : [\"け\", Color.GREEN, Color.WHITE, Color.ORANGE],\n",
    "    9 : [\"さ\", Color.BLUE, Color.WHITE, Color.RED],\n",
    "    10 : [\"し\", Color.BLUE, Color.RED, Color.YELLOW],\n",
    "    11 : [\"す\", Color.GREEN, Color.YELLOW, Color.RED],\n",
    "    12 : [\"せ\", Color.GREEN, Color.RED, Color.WHITE],\n",
    "    13 : [\"た\", Color.WHITE, Color.RED, Color.BLUE],\n",
    "    14 : [\"ち\", Color.YELLOW, Color.BLUE, Color.RED],\n",
    "    15 : [\"つ\", Color.YELLOW, Color.RED, Color.GREEN],\n",
    "    16 : [\"て\", Color.WHITE, Color.GREEN, Color.RED],\n",
    "    17 : [\"な\", Color.ORANGE, Color.WHITE, Color.BLUE],\n",
    "    18 : [\"に\", Color.ORANGE, Color.BLUE, Color.YELLOW],\n",
    "    19 : [\"ぬ\", Color.ORANGE, Color.YELLOW, Color.GREEN],\n",
    "    20 : [\"ね\", Color.ORANGE, Color.GREEN, Color.WHITE],\n",
    "    21 : [\"ら\", Color.RED, Color.BLUE, Color.RED],\n",
    "    22 : [\"り\", Color.RED, Color.YELLOW, Color.BLUE],\n",
    "    23 : [\"る\", Color.RED, Color.GREEN, Color.YELLOW],\n",
    "    24 : [\"れ\", Color.RED, Color.WHITE, Color.GREEN]\n",
    "}\n",
    "\n",
    "# \"あ\"の色を出力する場合\n",
    "for name, colorA, colorB in [color_index_edge[1]]:\n",
    "    print_color_edge(colorA,colorB)\n",
    "    if input()==name:\n",
    "        print(\"success\",name)\n",
    "    else:\n",
    "        print(\"miss\",name)"
   ]
  }
 ],
 "metadata": {
  "kernelspec": {
   "display_name": "Python 3",
   "language": "python",
   "name": "python3"
  },
  "language_info": {
   "codemirror_mode": {
    "name": "ipython",
    "version": 3
   },
   "file_extension": ".py",
   "mimetype": "text/x-python",
   "name": "python",
   "nbconvert_exporter": "python",
   "pygments_lexer": "ipython3",
   "version": "3.10.2"
  }
 },
 "nbformat": 4,
 "nbformat_minor": 2
}
