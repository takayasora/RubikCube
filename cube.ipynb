{
 "cells": [
  {
   "cell_type": "code",
   "execution_count": 56,
   "metadata": {},
   "outputs": [
    {
     "name": "stdout",
     "output_type": "stream",
     "text": [
      "\u001b[48;2;247;247;247m　\u001b[0m\n",
      "\u001b[48;2;253;254;0m　\u001b[0m\n",
      "\u001b[48;2;41;94;224m　\u001b[0m\n",
      "\u001b[48;2;36;244;13m　\u001b[0m\n",
      "\u001b[48;2;243;16;14m　\u001b[0m\n",
      "\u001b[48;2;243;156;14m　\u001b[0m\n"
     ]
    }
   ],
   "source": [
    "class color:\n",
    "    WHITE       =   f\"\\033[48;2;247;247;247m　\\033[0m\"\n",
    "    YELLOW      =   f\"\\033[48;2;253;254;0m　\\033[0m\"\n",
    "    BLUE        =   f\"\\033[48;2;41;94;224m　\\033[0m\"\n",
    "    GREEN       =   f\"\\033[48;2;36;244;13m　\\033[0m\"\n",
    "    RED         =   f\"\\033[48;2;243;16;14m　\\033[0m\"\n",
    "    ORANGE      =   f\"\\033[48;2;243;156;14m　\\033[0m\"\n",
    "\n",
    "print(color.WHITE)    \n",
    "print(color.YELLOW)\n",
    "print(color.BLUE)\n",
    "print(color.GREEN)\n",
    "print(color.RED)\n",
    "print(color.ORANGE)"
   ]
  }
 ],
 "metadata": {
  "kernelspec": {
   "display_name": "Python 3",
   "language": "python",
   "name": "python3"
  },
  "language_info": {
   "codemirror_mode": {
    "name": "ipython",
    "version": 3
   },
   "file_extension": ".py",
   "mimetype": "text/x-python",
   "name": "python",
   "nbconvert_exporter": "python",
   "pygments_lexer": "ipython3",
   "version": "3.10.2"
  }
 },
 "nbformat": 4,
 "nbformat_minor": 2
}
